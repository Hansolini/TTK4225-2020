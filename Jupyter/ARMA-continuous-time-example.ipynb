{
 "cells": [
  {
   "cell_type": "code",
   "execution_count": 4,
   "metadata": {},
   "outputs": [
    {
     "ename": "ModuleNotFoundError",
     "evalue": "No module named 'control'",
     "output_type": "error",
     "traceback": [
      "\u001b[1;31m---------------------------------------------------------------------------\u001b[0m",
      "\u001b[1;31mModuleNotFoundError\u001b[0m                       Traceback (most recent call last)",
      "\u001b[1;32m<ipython-input-4-25d37aac5036>\u001b[0m in \u001b[0;36m<module>\u001b[1;34m\u001b[0m\n\u001b[0;32m      4\u001b[0m \u001b[1;32mimport\u001b[0m \u001b[0mmatplotlib\u001b[0m\u001b[1;33m.\u001b[0m\u001b[0mpyplot\u001b[0m \u001b[1;32mas\u001b[0m \u001b[0mplt\u001b[0m\u001b[1;33m\u001b[0m\u001b[1;33m\u001b[0m\u001b[0m\n\u001b[0;32m      5\u001b[0m \u001b[1;32mfrom\u001b[0m \u001b[0msympy\u001b[0m \u001b[1;32mimport\u001b[0m \u001b[1;33m*\u001b[0m\u001b[1;33m\u001b[0m\u001b[1;33m\u001b[0m\u001b[0m\n\u001b[1;32m----> 6\u001b[1;33m \u001b[1;32mimport\u001b[0m \u001b[0mcontrol\u001b[0m\u001b[1;33m\u001b[0m\u001b[1;33m\u001b[0m\u001b[0m\n\u001b[0m\u001b[0;32m      7\u001b[0m \u001b[1;33m\u001b[0m\u001b[0m\n\u001b[0;32m      8\u001b[0m \u001b[1;31m# define a symbolic variable\u001b[0m\u001b[1;33m\u001b[0m\u001b[1;33m\u001b[0m\u001b[1;33m\u001b[0m\u001b[0m\n",
      "\u001b[1;31mModuleNotFoundError\u001b[0m: No module named 'control'"
     ]
    }
   ],
   "source": [
    "# Import the necessary stuff\n",
    "import numpy as np\n",
    "from scipy.integrate import odeint\n",
    "import matplotlib.pyplot as plt \n",
    "from sympy import *\n",
    "import control\n",
    "\n",
    "# define a symbolic variable\n",
    "x = symbols('x')"
   ]
  },
  {
   "cell_type": "code",
   "execution_count": 8,
   "metadata": {},
   "outputs": [],
   "source": [
    "# Plot the poles and zeros of a transfer function\n",
    "def plotPoleZeroPlot(transferFunction):\n",
    "    \n",
    "    # Get the poles and zeros\n",
    "    poles = transferFunction.pole()\n",
    "    zeros = transferFunction.zero()\n",
    "\n",
    "    # Find the re-im of the poles\n",
    "    a = [x.real for x in poles]\n",
    "    b = [x.imag for x in poles]\n",
    "\n",
    "    # Find the re-im of the zeros\n",
    "    c = [x.real for x in zeros]\n",
    "    d = [x.imag for x in zeros]\n",
    "\n",
    "    # Plot them and create a layout\n",
    "    plt.title(\"Poles/zeros plot of the transfer function\")\n",
    "    plt.scatter(a,b, marker=\"x\")\n",
    "    plt.scatter(c,d)\n",
    "    plt.grid(True, which='both')\n",
    "    plt.xlabel(\"real part\")\n",
    "    plt.ylabel(\"imaginar part\")\n",
    "    plt.axhline(0)\n",
    "    plt.axvline(0)\n",
    "    plt.show()\n"
   ]
  },
  {
   "cell_type": "code",
   "execution_count": 6,
   "metadata": {},
   "outputs": [],
   "source": [
    "# Plot the impulse response\n",
    "def plotImpulseResponse(transferFunction):\n",
    "    T, yout = control.impulse_response(transferFunction)\n",
    "    plt.plot(T, yout)\n",
    "    plt.title(\"Impulse response of h(s)\")\n",
    "    plt.xlabel(\"Time\")\n",
    "    plt.ylabel(\"h(t)\")\n",
    "    plt.show()\n"
   ]
  },
  {
   "cell_type": "code",
   "execution_count": 5,
   "metadata": {},
   "outputs": [],
   "source": [
    "# Plot the step response \n",
    "def plotStepResponse(transferFunction):\n",
    "    T, yout = control.step_response(transferFunction)\n",
    "    plt.plot(T, yout)\n",
    "    plt.title(\"Step response of h(s)\")\n",
    "    plt.xlabel(\"Time\")\n",
    "    plt.ylabel(\"h(t)\")\n",
    "    plt.show()\n"
   ]
  },
  {
   "cell_type": "code",
   "execution_count": 4,
   "metadata": {},
   "outputs": [],
   "source": [
    "# Convert a control library representation to a sympy one\n",
    "# Ignore this one\n",
    "def controlToSympy(num, den):\n",
    "    \n",
    "    # Create a sympy fraction\n",
    "    numSym = 0\n",
    "    denSym = 0\n",
    "    \n",
    "    for counter, coefficient in enumerate(reversed(num)):\n",
    "        numSym += coefficient*x**counter\n",
    "    \n",
    "    for counter, coefficient in enumerate(reversed(den)):\n",
    "        denSym += coefficient*x**counter\n",
    "    \n",
    "    return numSym/denSym\n"
   ]
  },
  {
   "cell_type": "code",
   "execution_count": 2,
   "metadata": {},
   "outputs": [],
   "source": [
    "# Extract each mode, ignore this\n",
    "def extractModes(num, den):\n",
    "\n",
    "    # Get the fraction\n",
    "    symFraction = controlToSympy(num, den)\n",
    "    \n",
    "    # Get the partial fraction decomposition\n",
    "    partialFracDecomped = apart(symFraction).as_ordered_terms()\n",
    "    \n",
    "    # The list of fractions\n",
    "    listOfFractions = []\n",
    "\n",
    "    # Decompose the fractions and add it to the list\n",
    "    for subFractions in partialFracDecomped:\n",
    "        # Decompose a fraction into numerator and denominator\n",
    "        numCont, denCont = fraction(subFractions)\n",
    "        # Extract the coefficients and convert to correct type\n",
    "        numPolynom = [int(e) for e in Poly(numCont, x).all_coeffs()]\n",
    "        denPolynom = [int(e) for e in Poly(denCont, x).all_coeffs()]\n",
    "        listOfFractions.append([numPolynom, denPolynom])\n",
    "\n",
    "    return listOfFractions\n"
   ]
  },
  {
   "cell_type": "code",
   "execution_count": 3,
   "metadata": {},
   "outputs": [],
   "source": [
    "# Plot all the modes of the transfer function\n",
    "def plotModes(numerator, denominator):\n",
    "    \n",
    "    # Extract the modes of the transfer function\n",
    "    modes = extractModes(numerator, denominator)\n",
    "    \n",
    "    # Plot each mode independently\n",
    "    for mode in modes:\n",
    "        num,den = mode\n",
    "        transfer = control.tf(num,den)\n",
    "        T, yout = control.impulse_response(transfer)\n",
    "        plt.plot(T,yout)\n",
    "    \n",
    "    # Add some information to the plot\n",
    "    plt.title(\"Impulse response of all the modes\")\n",
    "    plt.xlabel(\"Time\")\n",
    "    plt.ylabel(\"h(t)\")\n",
    "    plt.show()\n"
   ]
  },
  {
   "cell_type": "code",
   "execution_count": 9,
   "metadata": {},
   "outputs": [
    {
     "ename": "NameError",
     "evalue": "name 'control' is not defined",
     "output_type": "error",
     "traceback": [
      "\u001b[1;31m---------------------------------------------------------------------------\u001b[0m",
      "\u001b[1;31mNameError\u001b[0m                                 Traceback (most recent call last)",
      "\u001b[1;32m<ipython-input-9-50afdbdff17c>\u001b[0m in \u001b[0;36m<module>\u001b[1;34m\u001b[0m\n\u001b[0;32m      2\u001b[0m \u001b[0mnumerator\u001b[0m \u001b[1;33m=\u001b[0m \u001b[1;33m[\u001b[0m\u001b[1;36m1\u001b[0m\u001b[1;33m,\u001b[0m \u001b[1;33m-\u001b[0m\u001b[1;36m1\u001b[0m\u001b[1;33m]\u001b[0m\u001b[1;33m\u001b[0m\u001b[1;33m\u001b[0m\u001b[0m\n\u001b[0;32m      3\u001b[0m \u001b[0mdenominator\u001b[0m \u001b[1;33m=\u001b[0m \u001b[1;33m[\u001b[0m\u001b[1;36m1\u001b[0m\u001b[1;33m,\u001b[0m \u001b[1;36m4\u001b[0m\u001b[1;33m,\u001b[0m \u001b[1;36m3\u001b[0m\u001b[1;33m]\u001b[0m\u001b[1;33m\u001b[0m\u001b[1;33m\u001b[0m\u001b[0m\n\u001b[1;32m----> 4\u001b[1;33m \u001b[0mtransferFunction\u001b[0m \u001b[1;33m=\u001b[0m \u001b[0mcontrol\u001b[0m\u001b[1;33m.\u001b[0m\u001b[0mtf\u001b[0m\u001b[1;33m(\u001b[0m\u001b[0mnumerator\u001b[0m\u001b[1;33m,\u001b[0m \u001b[0mdenominator\u001b[0m\u001b[1;33m)\u001b[0m\u001b[1;33m\u001b[0m\u001b[1;33m\u001b[0m\u001b[0m\n\u001b[0m\u001b[0;32m      5\u001b[0m \u001b[1;33m\u001b[0m\u001b[0m\n\u001b[0;32m      6\u001b[0m \u001b[1;31m# Define the initial condition\u001b[0m\u001b[1;33m\u001b[0m\u001b[1;33m\u001b[0m\u001b[1;33m\u001b[0m\u001b[0m\n",
      "\u001b[1;31mNameError\u001b[0m: name 'control' is not defined"
     ]
    }
   ],
   "source": [
    "# Define the transfer function\n",
    "numerator = [1, -1]\n",
    "denominator = [1, 4, 3]\n",
    "transferFunction = control.tf(numerator, denominator)\n",
    "\n",
    "# Define the initial condition\n",
    "x0 = [1]\n",
    "\n",
    "# Plot the various things\n",
    "plotPoleZeroPlot()\n",
    "plotImpulseReponse()\n",
    "plotStepResponse()\n",
    "plotModes()\n"
   ]
  }
 ],
 "metadata": {
  "kernelspec": {
   "display_name": "Python 3",
   "language": "python",
   "name": "python3"
  }
 },
 "nbformat": 4,
 "nbformat_minor": 4
}
